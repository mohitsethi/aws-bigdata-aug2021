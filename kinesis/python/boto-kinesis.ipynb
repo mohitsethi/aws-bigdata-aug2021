{
 "cells": [
  {
   "cell_type": "code",
   "execution_count": 12,
   "id": "8cc7f5fd-fba4-4d3c-919b-7a8a399af1d8",
   "metadata": {},
   "outputs": [],
   "source": [
    "from boto import kinesis\n",
    "import time\n",
    "# import os1"
   ]
  },
  {
   "cell_type": "code",
   "execution_count": 13,
   "id": "9fc5cc4f-80f7-45d0-b255-b30811e49c10",
   "metadata": {},
   "outputs": [
    {
     "name": "stdout",
     "output_type": "stream",
     "text": [
      "boto-kinesis.ipynb       kinesis-python-stream.md\n"
     ]
    }
   ],
   "source": [
    "!ls"
   ]
  },
  {
   "cell_type": "code",
   "execution_count": 14,
   "id": "6418b55b-6fe2-4473-be2e-9e2d91533792",
   "metadata": {},
   "outputs": [],
   "source": [
    "kinesis = kinesis.connect_to_region(\"us-east-2\")"
   ]
  },
  {
   "cell_type": "code",
   "execution_count": 17,
   "id": "a19f2e02-4aa9-4e5a-af4c-433012e01f60",
   "metadata": {},
   "outputs": [],
   "source": [
    "shard_id = 'shardId-000000000000' #we only have one shard!"
   ]
  },
  {
   "cell_type": "code",
   "execution_count": 18,
   "id": "8d702003-10bb-458c-b45a-ad9c81d466a6",
   "metadata": {},
   "outputs": [],
   "source": [
    "shard_it = kinesis.get_shard_iterator(\"BotoDemo\", shard_id, \"LATEST\")[\"ShardIterator\"]"
   ]
  },
  {
   "cell_type": "code",
   "execution_count": 20,
   "id": "00c82bb6-502d-4931-842c-96bcfcc4c1ed",
   "metadata": {
    "scrolled": true,
    "tags": []
   },
   "outputs": [
    {
     "name": "stdout",
     "output_type": "stream",
     "text": [
      "{'MillisBehindLatest': 0, 'NextShardIterator': 'AAAAAAAAAAHY/0oyerukYJD2Nh8EMEmer5EhDS/e8w9aSq8wIj4X8LE+IaDM6WkvovfylHJy7GRh6e2916riGrlaZc73YIeA9/mgZdM4xWJYfqoBoVDh6EpPD8GaggwAv3WIdZDX3G8qqkgVK/8DJRRqlt8cudNMipRPK8nu8zreoCaZFAXTXkM6pBgX+8s/7n5BPHEY4xBLQ6ejwBvOW0CXiG4NJkfimjzXtUu4yeh7StvmGfLJaw==', 'Records': []}\n",
      "{'MillisBehindLatest': 0, 'NextShardIterator': 'AAAAAAAAAAGJt9kVC7CeAUM+hTSM+62ZYpuYC/oQlHxcU/GHR7O0JERDku448xmhdygUmyqaGjeRKAC3oXIONB0X3i5y+bwiCawAoyfnq7pWrZl64oG7yAEf8v/Zh/zEuTUfHrRb3DA8VH2H7aVcVlg6THYOGr1JDqDNqKuPBcEKh3gPVWCuHsqzssaEcNdACdG7PSTchsC4xl1ENHLMBohdwssO5mhUpnPDKaUIFrFSrdaoaY9FDA==', 'Records': []}\n",
      "{'MillisBehindLatest': 0, 'NextShardIterator': 'AAAAAAAAAAEq0qVMMv3kaDyPIsCo84zuKUx6SUbZqTilw713uWCy85yWvWaRqdENHYM+qrJTExFD4sB02IYBzfO1BZHGzOuhbk5pzrp2S0Sx2MLrlaQPCp2dc+rDtivglSkLnMOdRXSdzbvYF+KGXN0cLJHeANClx8V7yu5zBguaR6lGZfrFhKZHvAtlWOZFpwPobQRgSCJstOWDUj4wUF1J8k1lLJzprWU9YapJlYqiczDZpoGZow==', 'Records': []}\n",
      "{'MillisBehindLatest': 0, 'NextShardIterator': 'AAAAAAAAAAEihTkiuxSKkr4nL6JNOxQnmnUitnJHGJWeHI1uJH/GtYv0uaV11yJM64J4u0Zi+wn2MNUMYW13df1dwRnZm+vJnFGML954X+JrUhwIeqCd5/vuXo0IokNYpok0IXIRFlwB6/X0U/Av7c3pjbgX6XUj6UbkYU4YsPTzzmpjkB5agt4GYopsvZEN8Jvmqcw5Ai7gsWglOV6Qh7op+qERpUpv2gTxkmew28NIdDiQoUpvjw==', 'Records': []}\n",
      "{'MillisBehindLatest': 0, 'NextShardIterator': 'AAAAAAAAAAEI9vSJBdCbQ+iylR1D9BqZYQvdQCqtnxfCzvVHaWVD0IFWiXkeG8pdn1LYy6j6OGmhPifYmBRJkjR1qs7K9+/hs13VSEmLxfgzZ52VvbkfwBO2FbqydJ4miT8nDSr7ns646qxsRnc+3D3gVHAp6yuu5/bu9f0lRAB4ebTWn8BxyldtSYJrfXiFiDvW3RZVslE1m6PzAVIS01mBmQWfu6JnhouWX+DB/NtqHs46fZr5bg==', 'Records': []}\n",
      "{'MillisBehindLatest': 0, 'NextShardIterator': 'AAAAAAAAAAGackpt3A0xbR4ITq34gZsMvYZMAKFGzkSTInMul2wnQ1pC5JKoxzV3VME8CdZkJr5oclhiFmYY+RoIdMc5tiCaTBeheM4SymJzqF9VjCKV1ZwqdXKa1z/mHjR+EhMLhK0Ll9l+h+PqgF3XvPfOSBy0iilr2TXFUZQhFciwap1zx5NmisK+T4oYEcb1X9ZHuUtFOmXPFNHQvig7AVd58C5Tf84OFAKVdvdtFuR9Sx59vA==', 'Records': []}\n",
      "{'MillisBehindLatest': 0, 'NextShardIterator': 'AAAAAAAAAAHsXQkdDHg1UQxXmqsoKoz7OS/KR4QzM0NVU+DaKRJoZNTBr2NKkCAAYwfK65PHWCBO71Yn3gAS9TenHLk9ElRUPevA9zzXg9+AL0F3VmZnp8lt8fyB5G6ELXsQ+1B+zEg6JeT285era8LvT5Zy8qotMLMhbI3iG5MDySVQs4G/99OcAUtmB/9I7h7Y3XR8XD33MiSW5vdVr8zPh3+qr9RxnugrfPpzsQzU86BS8+eeqQ==', 'Records': []}\n",
      "{'MillisBehindLatest': 0, 'NextShardIterator': 'AAAAAAAAAAE8BdYiLHY75jfWH1XAs8SdqmfFa/7KwEo0+5ScLmhPkXbaZQn54Prc/hp6ynXUHpEbT5ub3Kpbs92slzW1xVOZfdCP5HD1u4UImnEozpgP4qszj9moZeqbnKvatBSpcOzhQE/zp9+TAxZZYcq9GFzkbBACVNJZcvGaZC2xBdiZQf3yDeNVOhudaB+7tb6sNhRFRNsvkt8mEaRDxnHEStOQGbVzQsIchP5ta+XHVCY3OA==', 'Records': []}\n",
      "{'MillisBehindLatest': 0, 'NextShardIterator': 'AAAAAAAAAAFC5CuUo6IRBdW2adTzjd7CXifSsMDnqya4mou1I472CIIriojUhMM8ZtDylwEnk2mvUAuLlGEXlx25cUTkKtPi/lTpA0jSZozqo//pYz6zIYCK3fDskT5jiwmelaBoRlDxl3jHm75KmzDb7sBH4UKEEZ74O/RH8UrCVczejtMQjT3SJWicaZn6rSxbHBGAI0GYaAXbncMG6tpoBmhHMHqcIM9tvpLnl71/cg+yeUiGSg==', 'Records': []}\n",
      "{'MillisBehindLatest': 0, 'NextShardIterator': 'AAAAAAAAAAGOTUA255EDQCTV1+SwiogqKcroa/gPjYM3m73WFpohTDhWBr1z3kuTLNXE2w+cMW2N8nS+or7K8Mi/upBuK3v65zwLe+vubyJ4F2AzfMCnzJTWevYCsiwry4WRYFUiDN2OZqmUouoLePomccsO0kjNEzGqXCTA3hvo93nAiUZteNesS9w7b8dsEKoEz6IU+7RY+OKCaoe3N8CrCyHhZFSsfXOsRZnRr4BuCKxrFhVCSA==', 'Records': []}\n",
      "{'MillisBehindLatest': 0, 'NextShardIterator': 'AAAAAAAAAAEPnQ6BM7ajd+gmmYpZh2YfBIlObRKuvtUjPzorXCm84xAILWWssE/3dVTpb3UBoPT6P0VqtxjGfMzwk5i7fyvxfMLHkNuNbWTlQ7qG0M1n4Q9snQW07JGYAySYVofRrnco3/CXgVaDOuiuPKOSrYBd/wTF+spbgH/JdbtEEf5AaWiImvp8wX8iRhCHuKtVqL0TUD+xwwl0jJBs59aQLtQyrXX74yw6D7OJCPbaqj0Q7w==', 'Records': []}\n",
      "{'MillisBehindLatest': 0, 'NextShardIterator': 'AAAAAAAAAAH7gnLCbaO2suYsjwXW6W5KNTqyDXMnXPonccLKDkK2SLLtdRsJsmdYG/WWFDW8ATIuBoMajAw1M6E35x92YQl/j8pjQmBYAnWxft0+rhxkwvJrOqupWB2mb0gCOGvY9L8YKy86K3KdPxc+VmVEYdeMIT7oi6FuOObFKNg5/qprYvpNFq0gDp4itJZ6K9QHqXGAR1CIVNS4A9W7b2GP4wfvE+aUZTi1W12qBg57ho2N2A==', 'Records': []}\n",
      "{'MillisBehindLatest': 0, 'NextShardIterator': 'AAAAAAAAAAF/vvQfEV5CZ5B8bGNx01IM20J6+p52L64zBNRRlPjxG0h8OtDjfQD5/ARxfcBsZ/XIVpWAa95987XhMSJp0+8nQJFH6Rc7/EahMVhdcV1rFpDibd0dfCg9VK7pQT+QHNDVcMRvixbTFXfgnB50q1iaRg1tBPa3x/wpTE1keC0Xiy5DY4g2E2INDVlacQcWlHu4atMX5hBfIDOhdH4ad1G/mUfpMbrrVsYxLymjJnf4Mg==', 'Records': []}\n",
      "{'MillisBehindLatest': 0, 'NextShardIterator': 'AAAAAAAAAAG7TX6LnRyjaLWgOBKfcfao0wYbw5KJvn2jOyRBuIaWeAKMjuSHsvyQgD2Pcn+68gIeu/LZbvamLvfA0COy3Pjp4bxeCz3QvZnMhWytSuOYDFFRgZUKxTx+/Me6m/NPfIA8zRpV2998e9VwvE3ZRfr8ocIv5G6hYdyunVokolLjcODpYYvAkk3N4x0/ViVgnpyxeOUBLfcYAnAGTTwDx7zdIPUHKqF5xCepOaEUd4+J+g==', 'Records': []}\n",
      "{'MillisBehindLatest': 0, 'NextShardIterator': 'AAAAAAAAAAEI7MCQwDYipGEukZwKDIYKma5hQ26Z+yPx389iNR4IpsCEP4VyQFotiM4V9yfTII+HSGlJrLVmMNaxyMol+5VhCcPPRd6Us1xRNpGscXpaGjYUkr368Lpk3Tp08PmEmmyjLn7fjtn6Q5W9Ys+yKxsL/qur2kBlYW201P1GZJKrkYs14VK3jETTdiNbKuNQUCEn1OcMmqhQBVtHMIXhOg1kRNYhVl70iJXwHAlSAhG1DQ==', 'Records': []}\n",
      "{'MillisBehindLatest': 0, 'NextShardIterator': 'AAAAAAAAAAHDsWEJQqMgtBCXp8MeIwACR9tcBi5Bcx7zxzh+KJ0RggxwEgWk6unQex6U5hHHyFCboCNlOYt7OoxjLU7RUBjp9rsW40RZRaRP5YCmNDFKm+unMx+iBsIaM3vkarIyC4oGNz4VO1C+eGCrf3tafyVOo+45CIYqrlcHdQpLh3NBGIokC/jgrfsxwcSgBBj3rsPU4iw++ByGbYYrhCfit8m0YZCeRRf6w1kx/zxRz13n/w==', 'Records': []}\n",
      "{'MillisBehindLatest': 0, 'NextShardIterator': 'AAAAAAAAAAEgPFKAqOq3wMKrwFlYQrLg1Qlx08RSaafuYkeS3Q2ZU/o+zEjBCnlAxU3h6rw7EGNFath0jiPJhsHamd9/TkonKfF0q5drEfPSyLep1jS/0m6HhveBgw+J6Zdx3syNGN72Ws8WALqdqkMjR+9XpD1bFwpgKQgLulRm4DULo9c8puKO26kju+Jbc60SEECsRC9zrUUtQgDbI+dwYQJp0JRY06xecb+JDv5FcUdUfALBUQ==', 'Records': []}\n",
      "{'MillisBehindLatest': 0, 'NextShardIterator': 'AAAAAAAAAAEeFH+SawsrUyiWSdwfy8Ytl0TQz7UTTY+qBKinad43LJwK3EUpp2ELQs8g+8yUYyztehfNpe3B80oIvdMtnbanwQGHfPWaje+rCrQmLU/qYuIDWC3J+rk+HwbxUQS2LNwfrjD9FFvW+sqVu7AadS99HnF5tDzEcQMy9sB22CzDBE1Xk7w/imHE6Qe7oPfmFmrko6/thfSRIxg8SH/G8uJrLz2vs468himp6ed+Tdoe3g==', 'Records': []}\n",
      "{'MillisBehindLatest': 0, 'NextShardIterator': 'AAAAAAAAAAFP0PHfRnVy7/6w8yyLf/NK0bsGbNRc4VBOEZbRPhRmMliROA5voYULrIyMutVS8n7SiQsWn29o8IMmnwCMdEWShD+L+RRZv4t7XKRWyEDiID8InZVwimCxU6KPhwASbBxFxxcZp6FO57BANcB92qCc03PCbHui5rdGJKCf4/blU616diaHNLYPY6H4JBfzX5JaV8ORUSyB+FUkUjfkuoBqDmNzV+WoDQpDfMC22X5+pg==', 'Records': []}\n",
      "{'MillisBehindLatest': 0, 'NextShardIterator': 'AAAAAAAAAAFyo+HRyw5QQngWkzGNbW/6wla0/hV6G+GmREs3+74/aut9NK3B90nh3JTvsgQf+rURKO5hTYWjDMW5AUEqzJ9RoSGO8L7urXcfChp/ovgOo9SA5qcA8xX8ws69ADdkvMLZjJAKAwQwdnZJLquzuTBf2CTYq/K+D3pSc1lwvsPXvqUiLfCS2o8tBKcxWrTmsj74192+k02TWJ8p5mv+Fz3Nz5wwEs9FfcY/XAQK2zHy6w==', 'Records': []}\n",
      "{'MillisBehindLatest': 0, 'NextShardIterator': 'AAAAAAAAAAHIkliI8J1sjHVTby+le6CDuAJpo8GNrJXsJ3Iaj/ZGDIw3fQPb8p2nDTDqvJeV/fGSbEXqSfIkMxbQC/oMWs8kh/M3k5nvgooHgE4aA1HuYkft6TwJDLLCA0gMkFlYpaMHT3mTLGJzFiORO9/NR8iPErCutzgLAvTZOZljuHZlnq2NnfhKfmzxcZdUzlO+odPP0Rx8dqqa6w5EMwsWlyR94E7mXImD0DPIqIzYeBGNag==', 'Records': []}\n",
      "{'MillisBehindLatest': 0, 'NextShardIterator': 'AAAAAAAAAAG+sl0GHRGn5SP/8j/fDGDHemQGHGDFYEoYzP/A587lYtuZhf2Hjk12jvdnXkWmn/sUbsqgjstBc1iXz3FwbI/gBbIREIPsn0+1jgvcb8/A31rupEn4d69rD8XGCBDO3AMGNFQPF3lT27ZsPXPNVL5GvVM2gb8OD549u507CTMRPBJMmGs+QJUGlR/RQWc0v3pD7z3zrxdOGDlyBm++I03Nq8+db/AzVuSPMHSYwelkmg==', 'Records': []}\n",
      "{'MillisBehindLatest': 0, 'NextShardIterator': 'AAAAAAAAAAEvhaQVTEKE8P9wGy5yURYurN7SH2ZzJ1RmN3knavvmN2etBpqDSF88OU5MICJzTgHcCwe54PcPw3bM5zgCTTz11KgqIE/65dfUQ3divuFcoklrSMmLKe3pzb13I4hldXRm2rRw2JjwcglEISBbkBf4lkUG9X4K66snrUWmSVTkaxgA+rKs3GV3AtPJVNXADVUZsz3pYRtanj29Q36MIwAPhUmWmrXTa4Esy79DfT1cpQ==', 'Records': []}\n",
      "{'MillisBehindLatest': 0, 'NextShardIterator': 'AAAAAAAAAAHI1Cyve1HcOpYvK5qrIvKX0bqvOhHTKb0ukl4BzLPD/4njh/Qp3O6mkKHMTFR8XticW04LNWvJ3/uWTvarpVi7nx+iheMFd7xFPVIywwjTHGfBWLJqKnxILdbIG/HiAbYSjFijSz2RDsdlXjw93o/ztTAzda2ZaMYLAilwJGieYocM0vsYZ/WR9VhuiFlim3s3Drv/fiLhyU5cSG9sPwSJw6ZyQZRrL9PUnbKPrFoi5w==', 'Records': []}\n",
      "{'MillisBehindLatest': 0, 'NextShardIterator': 'AAAAAAAAAAFSZWEL0/MFPcq3wrxpNhSWW0gkQMRfNO0zPBvEmQatd1lcfOV4B0TPVYaCxcchFRZbXfLgW7sqyy9PPoPI2Oy1n213/6E3AR30ZG6g1FA0MCWHfgxoZojUo70zZdDI86YDGsD9o9ntkiKaID5/8r7UoBX8IUyKJUmGhz/dwnVL7fP8MdgzAc2TFl28e9y4Yv/BpxyW5CliMxLGX04q0ILzLGVq7OUnsMXNrK4sB4Y2cA==', 'Records': []}\n",
      "{'MillisBehindLatest': 0, 'NextShardIterator': 'AAAAAAAAAAFFQXThqUlgfGn6SIzQ4ZhtKheINxF9nXefvOobv8nETDiFTJWA2xP9wchcuQxzO6is+OZV8/jpXL8YstLGJR8BkzlM3VzA7hKAucZNXpTp7EZ6yR6TznP1jL+Vlg0CKFLHq4fUcqQMrjweLSKftkIVdkk97FtFLCEELsfzvjnutgRvqQZdekCtCtuoYcq3gzw6UAxqfiVfrr+DU9RnXcM4YjkNjpqytkAiBs8UATKu7w==', 'Records': []}\n",
      "{'MillisBehindLatest': 0, 'NextShardIterator': 'AAAAAAAAAAHUytYsEThKW9GwlxsAVZQVzUL3/eXMsbXnWgLUT37GPOithM11vfwDj5bezsQPeciUTEBSSuEMYwti8RxTOc6gTqhyORRF9r3/se/eGUUGl3HbRu9jqs0jf/tQS+UPz9jiVTKf24MQOy8cEPFmumJZnDVFl7WNoGvBNmTZT2uhY7rCHkVDpGLFtSMNJb6V31nyU3igpHl1z7qxCWiv4eblrGCCxsCzHdDOFnUGT9eZaA==', 'Records': []}\n",
      "{'MillisBehindLatest': 0, 'NextShardIterator': 'AAAAAAAAAAGnnh/ws2mbwO9aIfOmOu5T8JbxBEgoLnTvfZUQiJ89qk1NkRyvvfrKF95BF4i6KkKK4+zvh69TsVJGfjPcG8XRVRkNPrZt6yoL/e2n926MIGFAnYLdYEGUGadRezMmGCupERREG0r1LoB/+FtpA6CmjzxtOg3KANTgwnVbh31jwUAeYu/Uc940hJ+2Fiy/Wjauu5hdP0VbxnNIhMNz7E+4saM63d5E+cm2SvP5ampHNQ==', 'Records': []}\n",
      "{'MillisBehindLatest': 0, 'NextShardIterator': 'AAAAAAAAAAGwoCVeXt4T/x9baimKzRW+gX2hrtrVA6s/P6KVKezwp8XXVj7TmMGkvKnGGRnu6DfvSMvUuJjLI6RXpXTPpalIKV0iws5hWPW3rI2YhMjFflcX5NkRpBiRzaKK6fdDrxeT0raLpfgfPPZOzdF+hybsDjOdbj/jjY5vuypnD4aqRmgdpDGZQgdG+LEuBcC1FmD4Dl/hLVP9apW+Oxp3oWu3yAGWkcKnh+BYtdnMxGEz+Q==', 'Records': []}\n",
      "{'MillisBehindLatest': 0, 'NextShardIterator': 'AAAAAAAAAAEXFjCdfEXg3lpW1RB8e0zvSNYEqLiSo5bIf/ifBCrjUa7TX9EIlj5sJKF0E8ZUMjWxge/TZgt9PuYLMUvWnbuw81S56uqYKPiPTcrigV5ox3DC3x5Wx/q6Rw6/7MDWqx+JWKz7x7HAr5vjANOehzodZJOjWNcUAXF5RSXC1QOTmTZ1FniS3NT9y2siVVZH+eFuu4q1fJbhKtnPHQcgcXR3B4HUIkbHHOxfBLuFbjxgEA==', 'Records': []}\n",
      "{'MillisBehindLatest': 0, 'NextShardIterator': 'AAAAAAAAAAFDvF1N07KoCrcvcc4/yfn/zhtH7u89aRpxl4+WefZ5pCyaAq0rzL8SGQBIXnCaS4ixfZz/vWwOdTRgx/d2qN+bya3+HbqtwTJrz8g8XxtxlIiFDN5kdj4fd/zC4ED4B6uwDyermtZ98BxPdhqdc9uHsHHXeR3lgI081/5rN8sR8wo41uBW9cuI6CLUWGniTXyh6j77i5GSQY3ofb/8okas/R4EHLvQynGBh5p0WPFQeQ==', 'Records': []}\n",
      "{'MillisBehindLatest': 0, 'NextShardIterator': 'AAAAAAAAAAGca7GR69TSPelRcp0I+mIDrqanHMz3M0Vgn0GGm/Ba2lCrc+jfmPB52XQPuhKakAeDxTU308DW4bdq68ovJqNZXdltuoh1bn6PZprhw/GPfWaA2+gSd4ZEr3i+btnA+3iiTzk6iG1eaXsNXQ1eTQhGa66oTL7PttOWeACog5UB2BkKSyhwAo3rbZCHibaajuHEliYX3qjBN6bvVQVV4MA3B01Vkh1ay/5RPPHNkw0CCA==', 'Records': []}\n",
      "{'MillisBehindLatest': 0, 'NextShardIterator': 'AAAAAAAAAAHpE81Azdqi9GCNANsa4eHczvLF31nmIhIVoWa06Mpffi9BgEwVsWXaSdMPBc+lp9w7rHXqk2hYyoK8WPH0OtBrpeIQKmQwMNSvCfV6BqahAiEZKVmUmNwARfZaKjaw5T9VRD2b6aKUsz48yU3R0VSq/f77d+Nijtot1K2EeKb/7rtkJ0V/I7U1eImG8U9mBcXMqMTP2TReztNVrcqU4UsNtU3je8vdcKbwzXn2Xh4Njg==', 'Records': []}\n",
      "{'MillisBehindLatest': 0, 'NextShardIterator': 'AAAAAAAAAAH5sS2Y7o5ivhqtR1tcEkSUpJoSN0CKsFoztYWrMzmOM9sRE5UH5gl+T58se5cIx5yw6Djyow4ltd+8QAJgDivVyFg5VqiGHxq9OSM176sX0x/JEW1W1pINabMMPImz2QzRRNMfXL0o7aKtkbJUEoX9Vq75F4DY+Zi6lNHjxyANHFa7R47Bbc+KflycqIawWgr4dvf2KlUr2ZzatV7RyCRED0qM/v6st5ac5OqeXISJRg==', 'Records': []}\n",
      "{'MillisBehindLatest': 0, 'NextShardIterator': 'AAAAAAAAAAHQfEN+WHfJkGboGlRt8QUfPpvx33HrgmrrXrSqV4Bg7gl41gOCAv4C+BMhk7DipMws3joqwchVnpye12aOxuuQvc+a6FPHhClIwpNYXZI8O4jO0HOmrqwcw2qpPwgfVkuxEq/YbQ1K3vqY+FrWofl4XkrU1syInhV+yIVY7jCxlzftA6mcTikkr7vVRHJSEg9gdgJuy8cFrWAdaR9s37v8bwnOqm8PgfpuYxBxIfZS/w==', 'Records': []}\n",
      "{'MillisBehindLatest': 0, 'NextShardIterator': 'AAAAAAAAAAFFPPMqisiw5IIDib+DoLb44twWPzC0WQma9cC35buE2SYnLNlv63ySP3aBu5oAU09ne9XELaATEa6jI/zE1kBOsMegxRiPNWzQQYhscX1uMxa2CwNJb2oTpTtMVT7dysvfXGAeWO/uOGqY1KweY3SPdqFgJQz48Qsp7+Q/t/zekht5e0ogsiakR3jR6Dq++Vc5ESUktkIUzSatJa2NKGEd5Xz8R7cOvw6SzI1WogHNQQ==', 'Records': []}\n",
      "{'MillisBehindLatest': 0, 'NextShardIterator': 'AAAAAAAAAAEsQCmUxc6J8M/QvVxSTd3I/QYVggQ2XeWWl7ALW29lLWxus+084JRfzKOquWf5q0GEQHDFqdzMJyeWl+eONeZJ6zTr2izhv7Pxv/3O31D1S2qhML4iP1FDOZPfnfOy9W7dxw6owsqMmP5I0NOb79scrBzp/zH34WbPk/rBhCPwLBsBNsJKHh23KMaZREY24ZwkDe9AOW/Edn6PFqDB+JcsZ/N1v3zyQ0yXUufhK1UlLA==', 'Records': []}\n",
      "{'MillisBehindLatest': 0, 'NextShardIterator': 'AAAAAAAAAAEobS6wWyPbnTt0wjzUZG7C6GR5kYCetrklk5JCNxHhDMieekNE8rhin+EOsXwlDT4QHM/9QbjqZJuN9XkTYrT4u+kd/MVniHPLQxe5lCtYUA+ouLO26GDaa+Uuc8Po36Ni246Os9La7aMv4GRTvKQ0qhO3Uao+b/8JI8S6CD9JI8RAl3lfC6tU+l7PtFYKk7ojwOIhmzAVpheLM+hnxlNqbkl4D5txTmSGKu78uy+pYg==', 'Records': []}\n",
      "{'MillisBehindLatest': 0, 'NextShardIterator': 'AAAAAAAAAAHb3mtv2dLEdtKeAnSF7plm1w6lEFW2sHMduHJZaZkqXW3l+vK2UWTYlVp5fmVyz59ZlvC0WHUuH1+beaGTC3NcLpb3Q2lg3+/HRQYd/zGe5iwOAnJwOOKGnSXzUU8ezo75a1UFxB+PuRu/2ss5ywIKYXBl9RbcMIQKK7VGunHKsmC9ONU3T2JYWI+zlq3q1g/iZZZhTmcp+ocStbcIByJv9qIZx5b8KxBYgHYwbcqYzg==', 'Records': []}\n",
      "{'MillisBehindLatest': 0, 'NextShardIterator': 'AAAAAAAAAAH1ov16c9shfU0KNDfKgY27gF16OpfeMPY7irW9rVCSJTrTpnFzDL2HMH5KorWM6x1MZEL38wW6Bo+BX8J1JbfCjeBEENFe23HeStmTGOVmLTm9DkAlgLNij04akyGmrBBCa/OxyxljXrv+Fagzwuroa3mUDJH0ZKheDepCMERZTUQkUPeKvEpx4GLsybGmgW0gwI6im/FU4b2BCoHdw7pxIm6jU6mQ9YAnSjAesnMzZQ==', 'Records': []}\n",
      "{'MillisBehindLatest': 0, 'NextShardIterator': 'AAAAAAAAAAGLDep9FTQ47koHCFAlbobuovg8a/BQZkFyPZ4jxNIt7kaDyGBrbUE4pCv3qzvxGV648z2wwl+0KqsZucM/7C4HHrt/gOIUUx8raEC3LpSY6g52lflYHIFmFk66yOAviuitkTiN/vrZGIQB8rp9/l/c0fQsEmVQrkU2XSQ5GAYHJh+zIo/RzMECwyM3wHMNef2PMDQ6yP85A/qIDNaSC9BR6R4IEV3t895gqNMor3sTPw==', 'Records': []}\n",
      "{'MillisBehindLatest': 0, 'NextShardIterator': 'AAAAAAAAAAHt8W4lg+W7XaZ0o6XwBOFoc+GquxoggkvxCrChqWx0L5LIQXocaDG6yJcrbt1g7XRWVWD4yOijdQMrHlWinfPoqaey85Ev9ie/d/EA5JgzpzH9FRKutalEGdDOEkaUIhnKAaVPYY0jzPf/kBqby+c2JEmnp4Lda+EpjJyBuPxriOjSKFmBni9DV1hXCmWZYyv4r7vGe4to2l6Qme6UWdp1BEoT3Yh7BMbozbZmts8o5g==', 'Records': []}\n",
      "{'MillisBehindLatest': 0, 'NextShardIterator': 'AAAAAAAAAAGxc4PJt1qhurWrU+hadENyjdsMGOxmLJXSGsKetSXB78ovFVXxH74u2lyoR5+kWX74yFVkk6XNzFy7zGP1AZWaz4H9ygjBBUw/G75YnFi28VXjAjHCTWNDIboVaho0pCzACkYiaYby/b+qmrrvoKIexULRxMXuOoWx82h4Pg5MEoRhw2JuyTU++bGSPqssz0W19wV15grqEjLmyC6dJH/uUF7iHJ512N3q/RDz9b9IIw==', 'Records': []}\n",
      "{'MillisBehindLatest': 0, 'NextShardIterator': 'AAAAAAAAAAETb+a65vF5pv7PXJHiUANgEgapaEzncya36EItoKNUpbn2TVE1v9GwwXDd/ldqJzAkMtBXf3bekPWnloxMi4rgsY/Uws3g9a8HDQ/y/OJw8zm6NjdcGynogc5CYCDwvNo4itmOYvslzkyeo7jWCEVK6lVY7qa/8NzgsjoJSWBVnGSk+UhuILhmeBYaTc5kSBnQoCvSKHJ+G+U0MMocP9aZ1xU9JKUXli1H4kEFWW3u8Q==', 'Records': []}\n",
      "{'MillisBehindLatest': 0, 'NextShardIterator': 'AAAAAAAAAAGo66vJE4zVSICZmspP9P328hgSgEfezVr2FqJipgHOvPAjQwxbLaFzOH5axMVpgtcXvc+ZftNGgFEyAAqBZbc9CnfYUkOLGrx1JyWJq12I0u48K6DsHGZRp9mdRb2EOTxcoWwj9egaPkRgZeXVgIbz6zSgjkESvdmIqU+/L2WVf9KgrGsjqwiTobYgk3hL0qW9JoCCsIPorjYM3vAb618YCg8feA0oiY1/9saKWndHew==', 'Records': []}\n",
      "{'MillisBehindLatest': 0, 'NextShardIterator': 'AAAAAAAAAAEDWfPzIi+Tne5I5YYV4ZIdpNngAen80srR02UOmhIPwzfXAdzdsuGwmoyG2Qf7nuXzgqszv9qoVnQ8z+TWMTdhNwHViyZSkP8+25T/bTORgtDewbzCZ5TDnO9jHISPp0TTuSjGBQa8QvGDTl4l4JzRclOOL7+ZJqDRAUezXm0NEGNGEr+2ZV+fFNsAhiy/X0nPmJEcIBP2sL3pQ2wwXqIQOwU5n5YVl/3hLxTUosqIFw==', 'Records': []}\n",
      "{'MillisBehindLatest': 0, 'NextShardIterator': 'AAAAAAAAAAFcCCfIACHMYFh1qAZisp3bPy3UJthQPJ9ChnMqGb0p7oVTRQS+jbp6cBvHyKU5hBPIfW3soNqFV8vwh0MhQs393UbHfNnWOwORo2nPq6ScsytbPBGVucBSM+2o7DI2JfD4Cep+ZltKM+yFp82fkQzqWQUFiKJB6IGtcxmPAyeFSt8ZcFs73mw2AYpc4zrgn5SjjkIZq1pNXXqhEeUywvc3BB/XRB1qgANj/hLq30nbvw==', 'Records': []}\n",
      "{'MillisBehindLatest': 0, 'NextShardIterator': 'AAAAAAAAAAFABhnrkDWJPzNR48xLPyCLXx0QCrS8JJ+ENQOFlnOBvQHHdwRIZm4aayopMtXvqR63weiqu9gZRd01pTj+hdzZK1h6AI3D1YqdBaE/7P/Z1C2JoLevALgEMHn/q44syWmf79Z/7w1GC+bQ/SnhvTT2aCKSfNr4i8qMPh0JgIdr5dBTGAGVf+RrPxj3St/D18We0JuZqWwN9ADD+2BZeodszB+53UVQoZ10CiUIH1ZieA==', 'Records': []}\n",
      "{'MillisBehindLatest': 0, 'NextShardIterator': 'AAAAAAAAAAElrijwV4E9WdnQi61u5xH6z3seZkrBRTLRjVWfwXSoiPm2762miDwGPzazLtVv+tsR4hymsCpPBmB+md7aruyGNiQd91mSkhaJ5BK3nkk5N05M3rBptaRhxAA5eGbbo7ZR9WPNZ6yiaDdlzN1wapup91Gfb0s51B0TLa1qHSTQpVRxw1V0DmhcEjhqC4nCFxNcrsclh9Vzk/EBLGj0hzwyhbFCcTNeeHZ0HSnqCzhUEA==', 'Records': []}\n",
      "{'MillisBehindLatest': 0, 'NextShardIterator': 'AAAAAAAAAAGNGqId2aOrUmfpDoTYFvB1vKAGCSsJ3yH3DoPeWMsJ8fktfFrrsXEVm3MGdwjahCmqQaYqu8oD8fUZuqibGA+NPzLsDxVfzP10yV6Pt0Q3TScK7Inp/Me/9D5yWiOdo+tA1CjZF2B2xCSNLyms6n/xJ+jKAF6exNYeD3kDYYdPe63gOBTvJbzp82nyXQEz1rbnsJfzWoHxFMOHGb/Bn3Jkom/1nSZpJ1ZZd1uWTcLneg==', 'Records': []}\n",
      "{'MillisBehindLatest': 0, 'NextShardIterator': 'AAAAAAAAAAFxLoENQc3koY5n0Ur9zmbnsDd0OXoDQZpGlCGp+iguaxisYvKJh8DsJ0q5dOZTlp1VxhNk8BMy3JAzkwgdc4/anPjCQs65l8nzE25B8vj7BTSeMGQOBSLVFAqlkd/dBcuM9QQOC1P25t2lwrJfj540NLbnyjMQGHwB+yAZOdZhUKSsjAr98kqq5JOrm9jwDd6LXWoZdy8Fww0JSmlw47FQTs9aCzn6dmgVtDB7m+FZQQ==', 'Records': []}\n",
      "{'MillisBehindLatest': 0, 'NextShardIterator': 'AAAAAAAAAAF+MCzmF4wNrdMMovs+GpXvdON46b5oXKzMBpPq4fHJD9qtuz5V0J51z6/z0Oc90UuF0m+lPbj9VBnNOd6A56IQr7z+nJAJlKuHL7am5UOyvdBYIBsx7JDESz0APrhx94fCq3oYkRoRhklMtmKZPuIiKR3tcdGJ8wIjB0bszfK1dgNJubNekd277YBD93msKDhEsm7v/mkNw6jyLljA6ipWBSGCK4E3XMciNqbn+bnSwA==', 'Records': []}\n",
      "{'MillisBehindLatest': 0, 'NextShardIterator': 'AAAAAAAAAAFhW7eWQySsIj4EBSoS2d25FjkcoS0ysTW1f8eqz0AOGfnLzQkAz6lsUEW6RtNqDopBd78fVv8o7wrvdGuQKLIgiN7Ih9lHXYEZ0EGhyLOxEc1QSYwu1gHgS2WajUjs1veeMBh4kOKzv/09fOVcwKRgsfHxjEAZdGgea/5idVQMEX1qUrSY73bihwUugm4fx1FFrpxhIFlPplGZxDTVbFb/lThnLyQVM+BvYaJ/lVOX0g==', 'Records': []}\n",
      "{'MillisBehindLatest': 0, 'NextShardIterator': 'AAAAAAAAAAGZ8Tkr87No91ZqohpJruVWvH6tc/A31ceCc2/EkFAi+KGfkiUZgVJC9Wh+J47N0P4Hxr5wh2G2JZNv1iOYKOZO5HULHdeLUyd+DY3/Vu0B4ACRIBIGI26opVfZyV3iUGN68z8PG9eB4ZqIVSj4dwjMwCwiuP7UoUqzCkK92yA9BzLLKtmYQzCV4agFF+xGf+OLLp5/9gr1wnMts2Sqpz2kxECk6cSUm/ES4zY5mlGIFQ==', 'Records': []}\n",
      "{'MillisBehindLatest': 0, 'NextShardIterator': 'AAAAAAAAAAFfi4o+rhKy6VhTaB78IWSpLlEkhloPDL2NLoppdyyFSXiQc+mPyy5ArBZdeGvemK1JXPePDjp0pN9/JRVVd7EaEB5DFuKe4Rkh1kFY5N3fbwt6iFhEnksK1+EZM1QDVVPq82DV7EAgxtPvFh7N++LWv3CZqpdoMO6Xz/JF23rH5b2y5fGqCWvMI91EQ31hnmH5S7pLHgQj1NNP5VJgMFIUHhsCc8rNcxIATGS4zk1yKw==', 'Records': []}\n",
      "{'MillisBehindLatest': 0, 'NextShardIterator': 'AAAAAAAAAAGlvjZEvgLJxg/ryKKj/hpE6Wvw+G1GqAfOUtG1wQpXBGOn0fBTD1uz/NLTkvq1kjzx5Pumtz1xjNwL3QdAHy+LSQbYYLBS95ysQ/PxaGEdDmfdwdWu1UNls1/X+x+DpzhA3skgNGlweVyg+wo0NcrhtC3V+mbnz/v0sooPPNhdXWWq3uKcUqRAS3wVVlDqMRLjKlMikCCXYdEUWBdH50EKxfxUHhv9g/SjCHeBtZy4iA==', 'Records': []}\n",
      "{'MillisBehindLatest': 0, 'NextShardIterator': 'AAAAAAAAAAG+j+SN3oXM692TT9X1fjGbyWAC2YZuLspsAoKXmz2/FOmNYVf207RJzh9huAoFIKyeUUJo4jjSOeYBSoyRtdhssLUf5/AqXrOZvLlOt9H28BNfSpgj4rqs1x7ZIarG3glNpwbxcWNqKn5ElncFa6cGJeD9MHxPosN4uhkuxKVZx7VLrO6a9L2QXe0EF583fAIl/gj2/j/B9hle9FKeQN1PaHQA8OwA+dMb8wWcO7U/FA==', 'Records': []}\n",
      "{'MillisBehindLatest': 0, 'NextShardIterator': 'AAAAAAAAAAHK0uJITwjHdvA8vJteZjtDpn+JaWg71YoykH8rGXesM/0yKRHEcEpRyqyf4bsB0d7I31aVMPnlmSp9e3PukUrOesQEcy28lLyJTA2MTNLA83KJscpdJjBm408D93p0oatDaDARVi4PGi8y0i+r7Aa175oS/CBRSimB5njCDldFCrtmQ2SprNnuCiTLEUhsBpafwyNFBQcJ9F2Nd9NXBQy0dGtjpuGIrd9sDqHOz5907w==', 'Records': []}\n",
      "{'MillisBehindLatest': 0, 'NextShardIterator': 'AAAAAAAAAAG/133SdsMy8heFc//RKasj+qX0OAx6mCp1QzIaJrhOykPL+ShKdv7gmlF4YnvvnewwVGsA0NbKru1Ryx5hbcWOBR/n2xtGuP1C6zcRjmsVT6UQRyGMph8z4/tm2JWfQcTG5+UQaHsZdhbzsflkrC0Z/TpY7EPadX3+hLmiIENdPn+UMpIMhYaC/HYbGJx3ytb2cKptJNqAHb3GnXPuPWLHHzNOwvNj1RQO9ypAh0TOwg==', 'Records': []}\n",
      "{'MillisBehindLatest': 0, 'NextShardIterator': 'AAAAAAAAAAGaRXY4yDVbVVs5Qad3Re2pzO5ql+NS2/Py3aZkuIJPJwKqA6JP1AzT6v3EVPpZAdpwXVxb3W1TepvYwRVh+R7meR35ytelvacEO6Cg7GgpgXKpvupYpjtCYE6M+NBJcWLhPlydYiu5c5Y5h/GOgGjm4/L9ySePSgChQRHJwSUiv34NfOyi4xhnHaQ2MdRBAuzG9gahF1y1ZbXN9E0tOM5FL8lqgI1BR1QXWTjZI95E7A==', 'Records': []}\n",
      "{'MillisBehindLatest': 0, 'NextShardIterator': 'AAAAAAAAAAFU/WHyRthWnrcliPqo0nBZHDssdPz9rtGrpAPqkM15yxr2/bECzAfjiUURq3fHKsbo9Y/QBJfGyxny3hgabE3do2hX5PCnWtLuz7iVpeHX4ABoUcZUxX1+IPo9t9k3nvfNN1TcOx+EgPz94NhXAH+iA078liCwEeuloE0uRLRSnZoj73oofH8J+6/jNdQCJKMEIS+GefeGLboqNvwmVKWTWTNH4qUGvrz0OXeQJmpSpA==', 'Records': []}\n",
      "{'MillisBehindLatest': 0, 'NextShardIterator': 'AAAAAAAAAAFbf9wv1RjB69Qep4Yo2RjCxE0dI/Zz1wvNnaDKfhjSGAGNvNtCGOWZErYEbOLVpup7wkxmsAeJp1Y020xYb7DU9INO4YF50cd/DetKht/bGakR68No6oNMBJsYglQ29GH06weYWd8PWsQyq5msshIXA1asxo9ZF4sSkFsBhph31LSiVpVJNysAVpaPNIY1R4NHVDdWMVJgtsmn+F9lPGhN3JB7NNb3xfn0hxHCN6YNig==', 'Records': []}\n",
      "{'MillisBehindLatest': 0, 'NextShardIterator': 'AAAAAAAAAAHgiUfVtWFijpF5QZHoZlRBu0S4VxASqSxBXWPtRefmTGB4QSQ6XTKvnNNm1WCjsrtDsyfcQrXISWQr6sV6Ox0cF/j3mJsgOqPMJ7xz37THTUAnMXCj7eXTNX+DRzstWf8zVaIx7+/q6bNR8WvtTFzbxF+W8LOOzPxbthO44vf6Ao1HR0LplRfRPPqoKLUlR216Uv5BRE7Np0w9zj3wh5DxkKO4j5qXxooJAHIeA6BdIA==', 'Records': []}\n",
      "{'MillisBehindLatest': 0, 'NextShardIterator': 'AAAAAAAAAAHE0LcpbP+Q9VLDItZB029cifg0CzMpv093B0b1dfsG2hO57BM7MuQ1syUWc7oc2HN/apdXE/Z9Qf/nVcOKqlLMBw0vrSmyy+435Zo58eYkN4qgcinQPv+yApzp9IT5rQcQSI1cuRXLNIol2m1B4Ym3oQx2M1uwWLT+hDAbnrexfgjsV2AmqHCRBUiyziNwPXIa0/9RtrGb7AKJsyhA3AanFv610K81LfUKNmS6wQe2Hw==', 'Records': []}\n",
      "{'MillisBehindLatest': 0, 'NextShardIterator': 'AAAAAAAAAAHR0q5r6G2SGdCEJoc0oD1l/Tp8jiVP/3qkPeemGX0D2rQeN2MiaqdIVD3YJMwHXfX7+ZB6Ay+AYE/g+im2mKexGQgRuvGQeNAXMFuwWQQ297nGtyEfmANCAp63YpV46KiiyV9C6mzV+hk6U7YbYJRclgfZkOSr+nnZV9qOXfGnP6KsPDwfBBCD1bcU/wZ4ArWnuWREnOR5/5vtWcCdnC8AEig4g5gwNyW5y489zTgWxA==', 'Records': []}\n",
      "{'MillisBehindLatest': 0, 'NextShardIterator': 'AAAAAAAAAAGHgbRDIiXKyofNKZIHwnovOslBvrtrfBVSqYouofSiN+JDcIOPVnVry9OSYGukUb570nJFK517C0OMiekm40Plz3Af8msz9ltTYlAhwE+HidxpzrN/Xjthoym/VWXkU3ccXSfRa6OxDnAizquZh9XgoM67Ct1MkVkD5mDVz7oNR0H+QK7b4Lno1fISqhMgyTSfoVPpBHRhPZ1k6Idqp9/SiCm3ruPS1uujKisyDOWVCg==', 'Records': []}\n",
      "{'MillisBehindLatest': 0, 'NextShardIterator': 'AAAAAAAAAAFsy2RjjIgAvVAwVCkG5C5IFl6gdCwVeobpHpsjOE292nWPHwyKr64VZHwZ6cO862ZRHTSy7GOrvEP/EJAWWE2DechbHtv68bjd9vzKfCQRw4s4VCKMh5/tqXuz6U9QIpDPspx+u/6XrY3T0OMCQmeX/KnP5dlG6ZBK66FnGAwO1XGFDfkJgbsB3wepGFVO3z4EELoNECTRC519bpH9b+8pCTMecSWRwC5kroe7ESsdkQ==', 'Records': []}\n",
      "{'MillisBehindLatest': 0, 'NextShardIterator': 'AAAAAAAAAAHHITb9IDtNKVTHPpNdJBNvXX3iwKo5jw1VrmQ4jYNc58yDUmHgP6FAQZQJp2WTMQyiqXWeD1pAmiFk+5q0Nx/WV/7PdXC5exDhX/FDcilv2P3yRnOuBm4ZK1KissniGqK/kkaae0IF98gLdIsQszfrUqA/jLZLxK4UMu7TGxxWc3jBn8RE6OJm6xraD3Y2A6h9Q3uk7kuInHBsXa2ocBdVWpm2fhKtOgViOW94sGm0Nw==', 'Records': []}\n",
      "{'MillisBehindLatest': 0, 'NextShardIterator': 'AAAAAAAAAAFik6CZUqhwX+KcEu24CqgnNqUIQpq987/UQSwzT9W8uQ62ZvMMNaCUjiPay/dnVT0pUB+YVpML7TjuWOEvUNe6zhI+kxWHUl+xoicTop+2g/QOd8DR3PfLh+111/bo+nPl+LIzX/i0tUchYuWhV1UrZZxtejiHMH+/xvqoc0D/xywd2JPySiaojo3uLRq6GFYUgK3BnOhksYsix/k05xGdaMVBB6CyA5tSI0p/LZCdcw==', 'Records': []}\n",
      "{'MillisBehindLatest': 0, 'NextShardIterator': 'AAAAAAAAAAGZCJx4GJyz1GZnAuRY+wMZ9u8dUL/ZqyhUMbD5KhIpXr3OObWuR4h3R6/MBHW5u0x/mGZSLxTCx1dW5KJJlxdgdEFgX3iETe8HEkoRPKNRAJBtbb/RHXpHhLr//ohLwXvV7G+9dmuYCpxfRRtma1/9X+/o8rldgsDdPwUjD1LZOMyUpLrWJWywTa885PuF7nG0mX7WRlAmlcYwwoVAoxFCyIE7IP+M8SSdLF+DBvAihQ==', 'Records': []}\n",
      "{'MillisBehindLatest': 0, 'NextShardIterator': 'AAAAAAAAAAG6/6M3C9MdbRN2fhDnNDD1BpajZisgSUR88OpmwZlEY6ZGo3eahmCRD+TSG4YhatJVC8IE3kuSmk/K7fQlNAU2WCV4I9lnwTKwB5QgfxCaygactbmkuIhxwEYGzKcDyQszLCL6/IXp5ptqkjBZep4tpsMmqqeIpecbCBAtozXT1Ek0g7sxUfc9zUu2k1BI1EXf0XCKQTcyYzeYIpLl9uPHJrH5AoD4IalAf96wdkrnGA==', 'Records': []}\n",
      "{'MillisBehindLatest': 0, 'NextShardIterator': 'AAAAAAAAAAH7ny2H+T64cUHp7QmPTrPSJF67zzxo32ZYn2K2k+n6SOc+azY9dlkFynYcW0kPpbDWQOdwIoOyJzEAByvmtG4ofTO9SloThfsgoAtg09n8ukv1Rpp7y+F5jW+htk5tifXBFTitVPv43v+AFvrnrWK13aQ/AxVRSm1GXMVwV7SuIw3oLHAG6woXvEJitFxO6z4dO39dcl1QoEK7AGGVlqLa8fsUMSu7jTQJ0yv9IdXklg==', 'Records': []}\n",
      "{'MillisBehindLatest': 0, 'NextShardIterator': 'AAAAAAAAAAGd2A++z2RR1ffvfmXmSrCVDX2+Gw1pTqzO+14b591iD7ZFkKDVIlpaXwg5GtDDnfgMUgeL0UNTI6K237DNGYfqElMoAUVBt673FO0SaJ14HqNoZ4TfGL2NRagDKx9etCTmeZYzrQMNnff1R/sIbCZ8RwFFqD9PWfRza204vZ6dtVDQW6O6Noe5sUVwHUIXWdkumHNLjAUHpEmz1zKRO2LTWeH6XYoMxf09R/z6D7pbAQ==', 'Records': []}\n",
      "{'MillisBehindLatest': 0, 'NextShardIterator': 'AAAAAAAAAAFQHrVhkgab1X0dChXoz35WFHH/Iy0JzIlz/h+VO3hWPPgu2pldccU64qpD0lEau7mVSQCpyd++cwttVYpmnQAY4YFqbj4nNJfK6qqYsjsPONWJ1xtmIbHr+PYr1Dzs6AvyxYzZPZ9p2sAbo32G3zUuW1Vgbvehsm3T/cSSIB2TaSNW8T29T1Ci2g9NckCXXp/XVzmZ19b4jgaXN2Q91BSjOWMgYPlGvqUC7xq67HCwGQ==', 'Records': []}\n",
      "{'MillisBehindLatest': 0, 'NextShardIterator': 'AAAAAAAAAAG6czwuIjh3kPGgqcNOp4Vd2gN43kHQHY63hotPFw/kPdehL9HACPQ3guFWeS1KJJeIJxmxMLllgVaXPn21YCmXsMF7uWa2zhIMC0zapbrMfYWRpH1xcVDcn8v2cz09ck2kJ132fxKPraQg8JUkFYdc8TJzhLBv9hethLd6e5rNXZAiwS2ktMw5LH15iXbQRJtvWaFY280Z/aI2OrIvbX/m7G1ue+6A7FIOK4oJjChY+A==', 'Records': []}\n",
      "{'MillisBehindLatest': 0, 'NextShardIterator': 'AAAAAAAAAAF9cC7CGXa70pBMexyU5w3f+Kaz/p6twsnahTdLmMdKVNebgwIwqUvNxSBPsm/EHFLT2uglbS72n0YqWMcLQTUPFYdBin2hOca9Mg8uNmN8JIgVSu+HGIdpyILBqlyEEAviqvP4bd6pwChQJL3DCQCKqSFSyoITjPRzm4jhSWqID+wspkTglrftpUEDIm8jP/4RWKxr9zfzDFp8QOm3b+fIc84ax8dhw+X/A9n1CzfixA==', 'Records': []}\n",
      "{'MillisBehindLatest': 0, 'NextShardIterator': 'AAAAAAAAAAEasTsDCgWc5I6sqpM0gnpprH+8GJZCt593OlbG3jYoJbz11LUUfWWyeultGjSTkHGQvR8+oQUDIyzsZI77B/SCIUG7q5rpyBK8Ksp83iQ7vGbRXpdZLE8Xy2t71EhLviBVIR54phqD+leG6sqH18NLpJ/KGzPX/pRxxz8FAnE/d7bS3iZ+taWIN151/RcPriWKJokAlvP4zkMvP2hmAIHNKWGSp0R7zQKKZ34E3WSWUA==', 'Records': []}\n",
      "{'MillisBehindLatest': 0, 'NextShardIterator': 'AAAAAAAAAAHzCSp8kDYYp8eMRY78JPcVoaUmglGjZ5IF5RqII2AfBWeTfF5PWaboru9vMStGRn2iluTg/Xhs+gHhbTEHwQKeld22St/byBnNhYt/dm/S5TBir+ic8UqTaq9Z1QpexhGiByzGgKz8C+XJgryN7ZStyu46vS/vT+VmUqU8MaBaFLCUB1DkNANlgpc/JD1qOowjDKjD83EObaWgVguuTrDB8kczUEIYgVAFssUQ6/nF9Q==', 'Records': []}\n",
      "{'MillisBehindLatest': 0, 'NextShardIterator': 'AAAAAAAAAAGMRGeZ5CUxX0+ztlQiOgUvXjF3ZC/c9oqIYc8kHDOY0GVFab+X/u2bSjahi+NCCl6HVl+etOcjv2RNRqaEpjX6ep0mOwn4P5CrCrfCRUWJsgvqmJTWoc2N8FFWZJOKpMvFDAyK1/xXEmf9cYxh9LqB0u/2wHEZ4NomPJmB1MbmLAcT97pkA8ilelnEGzaIjm5gKr5eA/hYXx9r3CS52A5askkj/5tIlILGARRnujqZFw==', 'Records': []}\n",
      "{'MillisBehindLatest': 0, 'NextShardIterator': 'AAAAAAAAAAH5m1wxf3sMyZKGIPJtadDwPszetOsao6g7NYR5pjhkUwsaj8ClMycJxlIkE1kvSM+7qdSFqKLi6BoTNmHs4OkSkZ8dHDKci1a4oZRpXIUigT9Gc8XW52g/pxR/uWGulNCUzcAhw+A3B7o2q3mnSc/O17GCYCfTM7tHP5F2Gspj5/OA8lBFdcfpRkJgWkXBwNzaUaSTPUZf8Oxs0ouoMrmkleSAcMD1ajuzJCqyCwM5FQ==', 'Records': []}\n",
      "{'MillisBehindLatest': 0, 'NextShardIterator': 'AAAAAAAAAAGunSW/KpDKzGtzx/Ek0Jxliet3SP7OVsQMUE7v8CzWN9t2S3mJnf5kKyKtwUB8jeZHFJQtRmW20oXQQ8RE5qDy/PMPDoKBN4w76J1UwbHU70B8BXoCkGPbCHudbg1U4mtDeOCkX7Bn9/WTZv9jBa7DZ+cyGlp0lpc7Joruopg0oN8NT6gzAKpLOKkFhLEsRHoOJgLcXqSeZrm/K779iXZnwoakGyL6EASVQQM0lHpItQ==', 'Records': []}\n",
      "{'MillisBehindLatest': 0, 'NextShardIterator': 'AAAAAAAAAAE+5OUP574rGiyyX5TSbXFRJiD6aMIeSRn9uj/RJuGlThm4egSKcwUh9uB5Y3RFb3Qh3tBybrDlTGYU0QsIcxbgOsXTD5SVy5MruJ5ycGvX17HgCo/kOrBR/t2nDUC1V9FpVrVaHVa2rrBtiahVFH4xLlHXpHyWtigaI+LkO5AcSZIrX0r3WXxtaQK/2BRcVFnQu9crX5ZhhWoqHjoXHBy11onk0j62GVyFkDHnkrCrPg==', 'Records': []}\n",
      "{'MillisBehindLatest': 0, 'NextShardIterator': 'AAAAAAAAAAHhypwhVEBfnFnj0UC8m7Cx6EF75nkEoUapim9ioU2wI9ylAgSxeuT9KnfsV+sNiPamOhZdfU0Z11NVX0a0m+M806vQbr/KqObCJx8kxa3DC/BFVVv/O8D3vA/wYjD3AVmU+rHdqlp7RfWB5P7EhGXBDGGI2ICizNx4bJb6U9UnoAuLOF43CCj1+M+aMFTvWBPUoj3YzMgOFhQsU9IWUECK4rB1YLwwEZ5ySg1KeDRr0Q==', 'Records': []}\n",
      "{'MillisBehindLatest': 0, 'NextShardIterator': 'AAAAAAAAAAGbo43Is2+QSIt8Or6Qo1iFhnVUQTWjkg/NuNEXQfBkAWpnroIj36if6yCZpnTJmPr4jPukDYree9LZBiSHTg2DI6PfrTXnU/z4/4NRFxm8CvM+yAsxAJ5o4HC6ibGeeDIpWQenM4/XU3zAx5pRSbhTLTxOoTyXJmL4IIehGu4U613ycC3PpJp3US58fYDp6f0M8NiQP09154SZpfYk9y9RGEKqQ87oNyrIyZDyndoDMQ==', 'Records': []}\n",
      "{'MillisBehindLatest': 0, 'NextShardIterator': 'AAAAAAAAAAGHodcy4CzEbpj7XDR1hnKOvAjmftaEbM7lenRZ4IEAUZpFhrwOcy27uFaXJ5Nl2DSk7Ng7A4kuQR1kBmh0KSJuPMzXfxzlZJXOCSyej3Kw4EKSUu6NWbhgZs/bidai0JH70qFAE4e/eM1yD+PXsXvRYXfbZD97225yy7Vw2RVWTOIVVWWEwB1EFTD/oKnf1WI2B+G4UMa/1X0/Dz0M2Rh1srqSB24ZYqAgRQRnq95+JA==', 'Records': []}\n",
      "{'MillisBehindLatest': 0, 'NextShardIterator': 'AAAAAAAAAAFyLwxYEGzDCSLmTBssJ525t5zSCRbIMpdfieevr01g8de3pF9OJNBZj2vngwxZTBKDU+vR+u3mhLCjCvVPSDGljXmQItwuTzmcc/UB3apoS9H7X5BxSNxGN40BWwtisSg/fS9QQlT+hl+RnyJjLY+fZoDCVwncZNuzsgSeNHthJoj2QFebCCWnq+F9CAxb0Sn83Uhd1CAqvGmnl0QT24DNBryxXyXvUgpmDhupkDH2Bg==', 'Records': []}\n",
      "{'MillisBehindLatest': 0, 'NextShardIterator': 'AAAAAAAAAAHELfBJm7bhvEg0lXdXUujCSlmDhX61mq+eWJFWrqsYPkfwWu/5mX2F7yZ2OVlpzOsGNbo1qOJQjWzG8carxkfaX0S0Lcr+g+X99I18MEiQfX9Rbk5zhNzIWaO4gE0/kbjaowV/PpXpGqBP3LSdugSVYgWXBVJdNnnOQdT8N4tLQ7/Pu5JyddZbWE47M/7hZY+bk3sNxZpQ+eCqFL9tSIaBfZ69YIFh5xYGZOQDwq5Y4A==', 'Records': []}\n",
      "{'MillisBehindLatest': 0, 'NextShardIterator': 'AAAAAAAAAAEWdg7W1KEL8enudcN1bozL+rY1aa9riOFG6OxfS2y1nrDMQ1IbLqJXfYx8F6XQRAJJXq6K6qvVKi+9PEmwAazYwz5f3+PZdJ6L0Dd4wJWrhjlbxRs2/Mc7b0nVGRXLkQMDpRJepuH6KDGlv9r2LVNkkLszioh7LvNcZ88wrV5PAJ5TirUCw46Fv7opmXkGpioiavUty0Z/Tjk+IH1QNe5l7enPPYhGKD7kCCkSrbCeDA==', 'Records': []}\n",
      "{'MillisBehindLatest': 0, 'NextShardIterator': 'AAAAAAAAAAE+KWAXOBVRPwq5NpxJjCvUwuuKl2dIrF2X43m4nx98aBgUGiYfd3lyfgqOZ1O0E5H7xfcozHS6P9+lbid7bX/0lWpTUz0rJ5kafOR5v/ABfmMkJbzCIaIx0c6Qdn9CrX//MUjW4sRrazw/Q4X6AgTJujDQYMPM9Y3J3YSUYI7OQxCQBgBUMeBzEBdJziE4+gQkszkSXgTjAmkWbjNrs8EJxqbf1NQok6bfqc5JSNDkdQ==', 'Records': []}\n",
      "{'MillisBehindLatest': 0, 'NextShardIterator': 'AAAAAAAAAAHDR9f1OViLCkJRHaI8GjjgT5hR7UdPCBhjNkgfohH0lsVgs2Pq9Q0qGk3aEk/8w9zv9OYqakDBzkbNFWGYODXU/UVm9ob7xnpxCNhAnUzpH8lB4aJ5Jdurobp+WVnrSsSD3feYk18rg14Z97idOojK9QjcE4NpaW+Lp84Ulbrojk+tQiFuBoYdW5E17hZT+E7/XRt8ZARJa+i5MZPeCpnzpqVrY3cgfYhgFmszcqAqoQ==', 'Records': []}\n",
      "{'MillisBehindLatest': 0, 'NextShardIterator': 'AAAAAAAAAAF1XVlxG14JUP6d7ajT2vnrh9Ka8T433SOd1GP+MPz6Th3xL5SvjuZ8T1URI2axnV+XLIBNyHe1JmkFWIV3rostCnGkpU/6VxTTUhHwo61HY4h/JbCoJTn8snl/pw+ER63bRHuvoN8UQgPoMjUwKJRRAs6t4jUpcSYcfFhHjoO6ZuRPldJFPFMWHkJBybh7+Ptolz0b0bIF01AZAF/Y/6l4rpX9gy8g4dTntdLdXxCdYw==', 'Records': []}\n",
      "{'MillisBehindLatest': 0, 'NextShardIterator': 'AAAAAAAAAAFH7BRInLjPSb+EIQNT6LBDTCbfwA8dj6eRZuRUtueduCwRF7nd47WaHau7cjPCuCd4zVV86HDExstkRgExTmEw788Z3fJY9rutyt8OOFT78+uYrw5wMt+aiTvo904Ii+loh9dEkGufwRE1PdDgw8SQMf+pCafk5Afj1uZQ5aHOfundeNi5MYvjIutPOb2fi41TUJbPotiyQM2sMELmtVgCMyDqvg9gBrTQJWSvusXcVA==', 'Records': []}\n",
      "{'MillisBehindLatest': 0, 'NextShardIterator': 'AAAAAAAAAAFBaV3i3F3Ax0y1JfJDAJP1OjjwvbR8Sxpz7J53cejES0a6gk5ks79BYuXkwo8LiaejuItRkpVEv3GsPqsrHxh1itqyn8VMz+cx2+e5UF5vgiUFAsGUD5JT9CxiWd5EMu9YgAFOhHt38JzkGldgPY/uKu/JizDSiYEwsN7zMZErfsxIQfBjTVvtpGxITYLHjzHxRwn2bnixxUpzyZ/zJJN3Z5wlsuItX4mRyZtPODUotg==', 'Records': []}\n",
      "{'MillisBehindLatest': 0, 'NextShardIterator': 'AAAAAAAAAAEiTga8oOTYprosaGOGRy4qLD+RN0/GXVNhlgMc6KE0zMU68fiiSWRU0/d/F8KESxmKIH63h9yJ+9fAbK0u0+UHq1UXyc2N7MrHL8A1iFt2Oro6PA2zUt6JFHLGI+qvDjEf+UpfjfqEHhHBicFx0Ff8ggH7BZGbLDan4vKxNj70TAgp0+6w0K+02eCj/tWZK9ezJL5gmGQf7nblsYNE09AqhZPzIA/fJOFeBiavnA4L2g==', 'Records': []}\n",
      "{'MillisBehindLatest': 0, 'NextShardIterator': 'AAAAAAAAAAHX5SfjiDyH/XYqToLx0kdbqUILfLTc1US8StW9LnQJ2jIlsjVyGg/3GDnkI0LxsC7roayzcE0uVR1UWmsROWiDVZrRxriTL6jGDQD7FNdIs/968HZKsEns/oDonJ3ZqXNB0tOAA7B+5gBUd4GkJzZndE0fSL6eCDzPNv8iJqZFG8PJzc5EpuOU4D1G9z5BZpIFynHmsU8VkPXilvqae0Qdz7+MWbsG5UC6W6DQ4HanVg==', 'Records': []}\n",
      "{'MillisBehindLatest': 0, 'NextShardIterator': 'AAAAAAAAAAFWQ5LrIaN6SZyjcIk4+zbGJssIlm0KjOSTb9W2K7kKpUkldvUm/Oqxk3nDTcSyZ8qLoNUOJrAoFagvRcbOsuCvQGhZ0e/kiIZl4X2BRSIWhvzP4qIoM/1zxwpWJLfbWHM9hTajLXhXapuR7qmW9lYZn3ITEyTEonA0j1p4BUvp6YQhYX+MPDIDxHbWQ1bxPp0ju3L35LhiWT5/fvxxUhihQqYMhC8fSpCaJrv4CoBkmQ==', 'Records': []}\n",
      "{'MillisBehindLatest': 0, 'NextShardIterator': 'AAAAAAAAAAG/SI5KmPcNTWbwaF3VydbLh34uv41sp3WazHgxEOM1bJOIuDwNSZpqdKYlJG5K0r68xic5B23nMzy8M08gy6Cfyx2uam5yROh+rphj6I0YlP9h/Om3Y8gc+Y6TKfgv25UgQtov/HsgxQkdE5rxF1ibIHvSo+ZjmDLuhQn3v9EhYD/rK6ml7CSwvV7bSbDOttWRWFwibgl1e4tpqRI+fkJCvaWETB+bMwao9CUBdn+cYQ==', 'Records': []}\n"
     ]
    },
    {
     "ename": "KeyboardInterrupt",
     "evalue": "",
     "output_type": "error",
     "traceback": [
      "\u001b[0;31m---------------------------------------------------------------------------\u001b[0m",
      "\u001b[0;31mKeyboardInterrupt\u001b[0m                         Traceback (most recent call last)",
      "\u001b[0;32m/var/folders/tg/3hp2zzld7lx8c701fby_jqsm0000gn/T/ipykernel_28523/2363865299.py\u001b[0m in \u001b[0;36m<module>\u001b[0;34m\u001b[0m\n\u001b[1;32m      1\u001b[0m \u001b[0;32mwhile\u001b[0m \u001b[0;36m1\u001b[0m\u001b[0;34m==\u001b[0m\u001b[0;36m1\u001b[0m\u001b[0;34m:\u001b[0m\u001b[0;34m\u001b[0m\u001b[0;34m\u001b[0m\u001b[0m\n\u001b[0;32m----> 2\u001b[0;31m     \u001b[0mout\u001b[0m \u001b[0;34m=\u001b[0m \u001b[0mkinesis\u001b[0m\u001b[0;34m.\u001b[0m\u001b[0mget_records\u001b[0m\u001b[0;34m(\u001b[0m\u001b[0mshard_it\u001b[0m\u001b[0;34m,\u001b[0m \u001b[0mlimit\u001b[0m\u001b[0;34m=\u001b[0m\u001b[0;36m2\u001b[0m\u001b[0;34m)\u001b[0m\u001b[0;34m\u001b[0m\u001b[0;34m\u001b[0m\u001b[0m\n\u001b[0m\u001b[1;32m      3\u001b[0m     \u001b[0mshard_it\u001b[0m \u001b[0;34m=\u001b[0m \u001b[0mout\u001b[0m\u001b[0;34m[\u001b[0m\u001b[0;34m\"NextShardIterator\"\u001b[0m\u001b[0;34m]\u001b[0m\u001b[0;34m\u001b[0m\u001b[0;34m\u001b[0m\u001b[0m\n\u001b[1;32m      4\u001b[0m     \u001b[0mprint\u001b[0m\u001b[0;34m(\u001b[0m\u001b[0mout\u001b[0m\u001b[0;34m)\u001b[0m\u001b[0;34m\u001b[0m\u001b[0;34m\u001b[0m\u001b[0m\n\u001b[1;32m      5\u001b[0m     \u001b[0mtime\u001b[0m\u001b[0;34m.\u001b[0m\u001b[0msleep\u001b[0m\u001b[0;34m(\u001b[0m\u001b[0;36m0.2\u001b[0m\u001b[0;34m)\u001b[0m\u001b[0;34m\u001b[0m\u001b[0;34m\u001b[0m\u001b[0m\n",
      "\u001b[0;32m~/opt/anaconda3/lib/python3.8/site-packages/boto/kinesis/layer1.py\u001b[0m in \u001b[0;36mget_records\u001b[0;34m(self, shard_iterator, limit, b64_decode)\u001b[0m\n\u001b[1;32m    324\u001b[0m             \u001b[0mparams\u001b[0m\u001b[0;34m[\u001b[0m\u001b[0;34m'Limit'\u001b[0m\u001b[0;34m]\u001b[0m \u001b[0;34m=\u001b[0m \u001b[0mlimit\u001b[0m\u001b[0;34m\u001b[0m\u001b[0;34m\u001b[0m\u001b[0m\n\u001b[1;32m    325\u001b[0m \u001b[0;34m\u001b[0m\u001b[0m\n\u001b[0;32m--> 326\u001b[0;31m         response = self.make_request(action='GetRecords',\n\u001b[0m\u001b[1;32m    327\u001b[0m                                      body=json.dumps(params))\n\u001b[1;32m    328\u001b[0m \u001b[0;34m\u001b[0m\u001b[0m\n",
      "\u001b[0;32m~/opt/anaconda3/lib/python3.8/site-packages/boto/kinesis/layer1.py\u001b[0m in \u001b[0;36mmake_request\u001b[0;34m(self, action, body)\u001b[0m\n\u001b[1;32m    863\u001b[0m             \u001b[0mmethod\u001b[0m\u001b[0;34m=\u001b[0m\u001b[0;34m'POST'\u001b[0m\u001b[0;34m,\u001b[0m \u001b[0mpath\u001b[0m\u001b[0;34m=\u001b[0m\u001b[0;34m'/'\u001b[0m\u001b[0;34m,\u001b[0m \u001b[0mauth_path\u001b[0m\u001b[0;34m=\u001b[0m\u001b[0;34m'/'\u001b[0m\u001b[0;34m,\u001b[0m \u001b[0mparams\u001b[0m\u001b[0;34m=\u001b[0m\u001b[0;34m{\u001b[0m\u001b[0;34m}\u001b[0m\u001b[0;34m,\u001b[0m\u001b[0;34m\u001b[0m\u001b[0;34m\u001b[0m\u001b[0m\n\u001b[1;32m    864\u001b[0m             headers=headers, data=body)\n\u001b[0;32m--> 865\u001b[0;31m         response = self._mexe(http_request, sender=None,\n\u001b[0m\u001b[1;32m    866\u001b[0m                               override_num_retries=10)\n\u001b[1;32m    867\u001b[0m         \u001b[0mresponse_body\u001b[0m \u001b[0;34m=\u001b[0m \u001b[0mresponse\u001b[0m\u001b[0;34m.\u001b[0m\u001b[0mread\u001b[0m\u001b[0;34m(\u001b[0m\u001b[0;34m)\u001b[0m\u001b[0;34m.\u001b[0m\u001b[0mdecode\u001b[0m\u001b[0;34m(\u001b[0m\u001b[0;34m'utf-8'\u001b[0m\u001b[0;34m)\u001b[0m\u001b[0;34m\u001b[0m\u001b[0;34m\u001b[0m\u001b[0m\n",
      "\u001b[0;32m~/opt/anaconda3/lib/python3.8/site-packages/boto/connection.py\u001b[0m in \u001b[0;36m_mexe\u001b[0;34m(self, request, sender, override_num_retries, retry_handler)\u001b[0m\n\u001b[1;32m    942\u001b[0m                     connection.request(request.method, request.path,\n\u001b[1;32m    943\u001b[0m                                        request.body, request.headers)\n\u001b[0;32m--> 944\u001b[0;31m                     \u001b[0mresponse\u001b[0m \u001b[0;34m=\u001b[0m \u001b[0mconnection\u001b[0m\u001b[0;34m.\u001b[0m\u001b[0mgetresponse\u001b[0m\u001b[0;34m(\u001b[0m\u001b[0;34m)\u001b[0m\u001b[0;34m\u001b[0m\u001b[0;34m\u001b[0m\u001b[0m\n\u001b[0m\u001b[1;32m    945\u001b[0m                 \u001b[0mboto\u001b[0m\u001b[0;34m.\u001b[0m\u001b[0mlog\u001b[0m\u001b[0;34m.\u001b[0m\u001b[0mdebug\u001b[0m\u001b[0;34m(\u001b[0m\u001b[0;34m'Response headers: %s'\u001b[0m \u001b[0;34m%\u001b[0m \u001b[0mresponse\u001b[0m\u001b[0;34m.\u001b[0m\u001b[0mgetheaders\u001b[0m\u001b[0;34m(\u001b[0m\u001b[0;34m)\u001b[0m\u001b[0;34m)\u001b[0m\u001b[0;34m\u001b[0m\u001b[0;34m\u001b[0m\u001b[0m\n\u001b[1;32m    946\u001b[0m                 \u001b[0mlocation\u001b[0m \u001b[0;34m=\u001b[0m \u001b[0mresponse\u001b[0m\u001b[0;34m.\u001b[0m\u001b[0mgetheader\u001b[0m\u001b[0;34m(\u001b[0m\u001b[0;34m'location'\u001b[0m\u001b[0;34m)\u001b[0m\u001b[0;34m\u001b[0m\u001b[0;34m\u001b[0m\u001b[0m\n",
      "\u001b[0;32m~/opt/anaconda3/lib/python3.8/http/client.py\u001b[0m in \u001b[0;36mgetresponse\u001b[0;34m(self)\u001b[0m\n\u001b[1;32m   1345\u001b[0m         \u001b[0;32mtry\u001b[0m\u001b[0;34m:\u001b[0m\u001b[0;34m\u001b[0m\u001b[0;34m\u001b[0m\u001b[0m\n\u001b[1;32m   1346\u001b[0m             \u001b[0;32mtry\u001b[0m\u001b[0;34m:\u001b[0m\u001b[0;34m\u001b[0m\u001b[0;34m\u001b[0m\u001b[0m\n\u001b[0;32m-> 1347\u001b[0;31m                 \u001b[0mresponse\u001b[0m\u001b[0;34m.\u001b[0m\u001b[0mbegin\u001b[0m\u001b[0;34m(\u001b[0m\u001b[0;34m)\u001b[0m\u001b[0;34m\u001b[0m\u001b[0;34m\u001b[0m\u001b[0m\n\u001b[0m\u001b[1;32m   1348\u001b[0m             \u001b[0;32mexcept\u001b[0m \u001b[0mConnectionError\u001b[0m\u001b[0;34m:\u001b[0m\u001b[0;34m\u001b[0m\u001b[0;34m\u001b[0m\u001b[0m\n\u001b[1;32m   1349\u001b[0m                 \u001b[0mself\u001b[0m\u001b[0;34m.\u001b[0m\u001b[0mclose\u001b[0m\u001b[0;34m(\u001b[0m\u001b[0;34m)\u001b[0m\u001b[0;34m\u001b[0m\u001b[0;34m\u001b[0m\u001b[0m\n",
      "\u001b[0;32m~/opt/anaconda3/lib/python3.8/http/client.py\u001b[0m in \u001b[0;36mbegin\u001b[0;34m(self)\u001b[0m\n\u001b[1;32m    305\u001b[0m         \u001b[0;31m# read until we get a non-100 response\u001b[0m\u001b[0;34m\u001b[0m\u001b[0;34m\u001b[0m\u001b[0;34m\u001b[0m\u001b[0m\n\u001b[1;32m    306\u001b[0m         \u001b[0;32mwhile\u001b[0m \u001b[0;32mTrue\u001b[0m\u001b[0;34m:\u001b[0m\u001b[0;34m\u001b[0m\u001b[0;34m\u001b[0m\u001b[0m\n\u001b[0;32m--> 307\u001b[0;31m             \u001b[0mversion\u001b[0m\u001b[0;34m,\u001b[0m \u001b[0mstatus\u001b[0m\u001b[0;34m,\u001b[0m \u001b[0mreason\u001b[0m \u001b[0;34m=\u001b[0m \u001b[0mself\u001b[0m\u001b[0;34m.\u001b[0m\u001b[0m_read_status\u001b[0m\u001b[0;34m(\u001b[0m\u001b[0;34m)\u001b[0m\u001b[0;34m\u001b[0m\u001b[0;34m\u001b[0m\u001b[0m\n\u001b[0m\u001b[1;32m    308\u001b[0m             \u001b[0;32mif\u001b[0m \u001b[0mstatus\u001b[0m \u001b[0;34m!=\u001b[0m \u001b[0mCONTINUE\u001b[0m\u001b[0;34m:\u001b[0m\u001b[0;34m\u001b[0m\u001b[0;34m\u001b[0m\u001b[0m\n\u001b[1;32m    309\u001b[0m                 \u001b[0;32mbreak\u001b[0m\u001b[0;34m\u001b[0m\u001b[0;34m\u001b[0m\u001b[0m\n",
      "\u001b[0;32m~/opt/anaconda3/lib/python3.8/http/client.py\u001b[0m in \u001b[0;36m_read_status\u001b[0;34m(self)\u001b[0m\n\u001b[1;32m    266\u001b[0m \u001b[0;34m\u001b[0m\u001b[0m\n\u001b[1;32m    267\u001b[0m     \u001b[0;32mdef\u001b[0m \u001b[0m_read_status\u001b[0m\u001b[0;34m(\u001b[0m\u001b[0mself\u001b[0m\u001b[0;34m)\u001b[0m\u001b[0;34m:\u001b[0m\u001b[0;34m\u001b[0m\u001b[0;34m\u001b[0m\u001b[0m\n\u001b[0;32m--> 268\u001b[0;31m         \u001b[0mline\u001b[0m \u001b[0;34m=\u001b[0m \u001b[0mstr\u001b[0m\u001b[0;34m(\u001b[0m\u001b[0mself\u001b[0m\u001b[0;34m.\u001b[0m\u001b[0mfp\u001b[0m\u001b[0;34m.\u001b[0m\u001b[0mreadline\u001b[0m\u001b[0;34m(\u001b[0m\u001b[0m_MAXLINE\u001b[0m \u001b[0;34m+\u001b[0m \u001b[0;36m1\u001b[0m\u001b[0;34m)\u001b[0m\u001b[0;34m,\u001b[0m \u001b[0;34m\"iso-8859-1\"\u001b[0m\u001b[0;34m)\u001b[0m\u001b[0;34m\u001b[0m\u001b[0;34m\u001b[0m\u001b[0m\n\u001b[0m\u001b[1;32m    269\u001b[0m         \u001b[0;32mif\u001b[0m \u001b[0mlen\u001b[0m\u001b[0;34m(\u001b[0m\u001b[0mline\u001b[0m\u001b[0;34m)\u001b[0m \u001b[0;34m>\u001b[0m \u001b[0m_MAXLINE\u001b[0m\u001b[0;34m:\u001b[0m\u001b[0;34m\u001b[0m\u001b[0;34m\u001b[0m\u001b[0m\n\u001b[1;32m    270\u001b[0m             \u001b[0;32mraise\u001b[0m \u001b[0mLineTooLong\u001b[0m\u001b[0;34m(\u001b[0m\u001b[0;34m\"status line\"\u001b[0m\u001b[0;34m)\u001b[0m\u001b[0;34m\u001b[0m\u001b[0;34m\u001b[0m\u001b[0m\n",
      "\u001b[0;32m~/opt/anaconda3/lib/python3.8/socket.py\u001b[0m in \u001b[0;36mreadinto\u001b[0;34m(self, b)\u001b[0m\n\u001b[1;32m    667\u001b[0m         \u001b[0;32mwhile\u001b[0m \u001b[0;32mTrue\u001b[0m\u001b[0;34m:\u001b[0m\u001b[0;34m\u001b[0m\u001b[0;34m\u001b[0m\u001b[0m\n\u001b[1;32m    668\u001b[0m             \u001b[0;32mtry\u001b[0m\u001b[0;34m:\u001b[0m\u001b[0;34m\u001b[0m\u001b[0;34m\u001b[0m\u001b[0m\n\u001b[0;32m--> 669\u001b[0;31m                 \u001b[0;32mreturn\u001b[0m \u001b[0mself\u001b[0m\u001b[0;34m.\u001b[0m\u001b[0m_sock\u001b[0m\u001b[0;34m.\u001b[0m\u001b[0mrecv_into\u001b[0m\u001b[0;34m(\u001b[0m\u001b[0mb\u001b[0m\u001b[0;34m)\u001b[0m\u001b[0;34m\u001b[0m\u001b[0;34m\u001b[0m\u001b[0m\n\u001b[0m\u001b[1;32m    670\u001b[0m             \u001b[0;32mexcept\u001b[0m \u001b[0mtimeout\u001b[0m\u001b[0;34m:\u001b[0m\u001b[0;34m\u001b[0m\u001b[0;34m\u001b[0m\u001b[0m\n\u001b[1;32m    671\u001b[0m                 \u001b[0mself\u001b[0m\u001b[0;34m.\u001b[0m\u001b[0m_timeout_occurred\u001b[0m \u001b[0;34m=\u001b[0m \u001b[0;32mTrue\u001b[0m\u001b[0;34m\u001b[0m\u001b[0;34m\u001b[0m\u001b[0m\n",
      "\u001b[0;32m~/opt/anaconda3/lib/python3.8/ssl.py\u001b[0m in \u001b[0;36mrecv_into\u001b[0;34m(self, buffer, nbytes, flags)\u001b[0m\n\u001b[1;32m   1239\u001b[0m                   \u001b[0;34m\"non-zero flags not allowed in calls to recv_into() on %s\"\u001b[0m \u001b[0;34m%\u001b[0m\u001b[0;34m\u001b[0m\u001b[0;34m\u001b[0m\u001b[0m\n\u001b[1;32m   1240\u001b[0m                   self.__class__)\n\u001b[0;32m-> 1241\u001b[0;31m             \u001b[0;32mreturn\u001b[0m \u001b[0mself\u001b[0m\u001b[0;34m.\u001b[0m\u001b[0mread\u001b[0m\u001b[0;34m(\u001b[0m\u001b[0mnbytes\u001b[0m\u001b[0;34m,\u001b[0m \u001b[0mbuffer\u001b[0m\u001b[0;34m)\u001b[0m\u001b[0;34m\u001b[0m\u001b[0;34m\u001b[0m\u001b[0m\n\u001b[0m\u001b[1;32m   1242\u001b[0m         \u001b[0;32melse\u001b[0m\u001b[0;34m:\u001b[0m\u001b[0;34m\u001b[0m\u001b[0;34m\u001b[0m\u001b[0m\n\u001b[1;32m   1243\u001b[0m             \u001b[0;32mreturn\u001b[0m \u001b[0msuper\u001b[0m\u001b[0;34m(\u001b[0m\u001b[0;34m)\u001b[0m\u001b[0;34m.\u001b[0m\u001b[0mrecv_into\u001b[0m\u001b[0;34m(\u001b[0m\u001b[0mbuffer\u001b[0m\u001b[0;34m,\u001b[0m \u001b[0mnbytes\u001b[0m\u001b[0;34m,\u001b[0m \u001b[0mflags\u001b[0m\u001b[0;34m)\u001b[0m\u001b[0;34m\u001b[0m\u001b[0;34m\u001b[0m\u001b[0m\n",
      "\u001b[0;32m~/opt/anaconda3/lib/python3.8/ssl.py\u001b[0m in \u001b[0;36mread\u001b[0;34m(self, len, buffer)\u001b[0m\n\u001b[1;32m   1097\u001b[0m         \u001b[0;32mtry\u001b[0m\u001b[0;34m:\u001b[0m\u001b[0;34m\u001b[0m\u001b[0;34m\u001b[0m\u001b[0m\n\u001b[1;32m   1098\u001b[0m             \u001b[0;32mif\u001b[0m \u001b[0mbuffer\u001b[0m \u001b[0;32mis\u001b[0m \u001b[0;32mnot\u001b[0m \u001b[0;32mNone\u001b[0m\u001b[0;34m:\u001b[0m\u001b[0;34m\u001b[0m\u001b[0;34m\u001b[0m\u001b[0m\n\u001b[0;32m-> 1099\u001b[0;31m                 \u001b[0;32mreturn\u001b[0m \u001b[0mself\u001b[0m\u001b[0;34m.\u001b[0m\u001b[0m_sslobj\u001b[0m\u001b[0;34m.\u001b[0m\u001b[0mread\u001b[0m\u001b[0;34m(\u001b[0m\u001b[0mlen\u001b[0m\u001b[0;34m,\u001b[0m \u001b[0mbuffer\u001b[0m\u001b[0;34m)\u001b[0m\u001b[0;34m\u001b[0m\u001b[0;34m\u001b[0m\u001b[0m\n\u001b[0m\u001b[1;32m   1100\u001b[0m             \u001b[0;32melse\u001b[0m\u001b[0;34m:\u001b[0m\u001b[0;34m\u001b[0m\u001b[0;34m\u001b[0m\u001b[0m\n\u001b[1;32m   1101\u001b[0m                 \u001b[0;32mreturn\u001b[0m \u001b[0mself\u001b[0m\u001b[0;34m.\u001b[0m\u001b[0m_sslobj\u001b[0m\u001b[0;34m.\u001b[0m\u001b[0mread\u001b[0m\u001b[0;34m(\u001b[0m\u001b[0mlen\u001b[0m\u001b[0;34m)\u001b[0m\u001b[0;34m\u001b[0m\u001b[0;34m\u001b[0m\u001b[0m\n",
      "\u001b[0;31mKeyboardInterrupt\u001b[0m: "
     ]
    }
   ],
   "source": [
    "while 1==1:\n",
    "    out = kinesis.get_records(shard_it, limit=2)\n",
    "    shard_it = out[\"NextShardIterator\"]\n",
    "    print(out)\n",
    "    time.sleep(0.2)"
   ]
  },
  {
   "cell_type": "code",
   "execution_count": null,
   "id": "ee6e7f2e-c2b5-47a5-847d-7426bd82bf05",
   "metadata": {},
   "outputs": [],
   "source": [
    "# Analyze Kinesis stream\n",
    "from boto import kinesis\n",
    "from __future__ import division\n",
    "import time"
   ]
  },
  {
   "cell_type": "code",
   "execution_count": null,
   "id": "ad9395af-ff3e-424d-a67f-6abf43f03e97",
   "metadata": {},
   "outputs": [],
   "source": [
    "kinesis = kinesis.connect_to_region(\"eu-west-1\")\n",
    "shard_id = 'shardId-000000000000' #we only have one shard!\n",
    "shard_it = kinesis.get_shard_iterator(\"BotoDemo\", shard_id, \"LATEST\")[\"ShardIterator\"]\n",
    "i=0\n",
    "sum=0\n"
   ]
  },
  {
   "cell_type": "code",
   "execution_count": null,
   "id": "756da609-6659-469f-8169-8701656bc2b7",
   "metadata": {},
   "outputs": [],
   "source": []
  }
 ],
 "metadata": {
  "kernelspec": {
   "display_name": "Python 3 (ipykernel)",
   "language": "python",
   "name": "python3"
  },
  "language_info": {
   "codemirror_mode": {
    "name": "ipython",
    "version": 3
   },
   "file_extension": ".py",
   "mimetype": "text/x-python",
   "name": "python",
   "nbconvert_exporter": "python",
   "pygments_lexer": "ipython3",
   "version": "3.8.8"
  }
 },
 "nbformat": 4,
 "nbformat_minor": 5
}
